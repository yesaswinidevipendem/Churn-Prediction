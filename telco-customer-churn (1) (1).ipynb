{
 "cells": [
  {
   "cell_type": "markdown",
   "id": "fb304f63",
   "metadata": {
    "_uuid": "3544313683eb7fc71db62dea38a54a3482efec26",
    "papermill": {
     "duration": 0.059816,
     "end_time": "2021-08-31T05:52:54.294527",
     "exception": false,
     "start_time": "2021-08-31T05:52:54.234711",
     "status": "completed"
    },
    "tags": []
   },
   "source": [
    "# EDA and Prediction"
   ]
  },
  {
   "cell_type": "markdown",
   "id": "627aa51f",
   "metadata": {
    "_uuid": "db15e9d14568dbe9d4091a9efe0dd1fd946b137a",
    "papermill": {
     "duration": 0.060195,
     "end_time": "2021-08-31T05:52:54.413768",
     "exception": false,
     "start_time": "2021-08-31T05:52:54.353573",
     "status": "completed"
    },
    "tags": []
   },
   "source": [
    "Churn is a one of the biggest problem in  the telecom industry. Research has shown that the average monthly churn rate among the top 4 wireless carriers in the US is 1.9% to 2%. "
   ]
  },
  {
   "cell_type": "code",
   "execution_count": 1,
   "id": "c7b1b2c0",
   "metadata": {
    "_cell_guid": "b1076dfc-b9ad-4769-8c92-a6c4dae69d19",
    "_uuid": "8f2839f25d086af736a60e9eeb907d3b93b6e0e5",
    "execution": {
     "iopub.execute_input": "2021-08-31T05:52:54.536995Z",
     "iopub.status.busy": "2021-08-31T05:52:54.535158Z",
     "iopub.status.idle": "2021-08-31T05:52:56.013632Z",
     "shell.execute_reply": "2021-08-31T05:52:56.014234Z",
     "shell.execute_reply.started": "2021-08-31T05:51:50.444873Z"
    },
    "papermill": {
     "duration": 1.541993,
     "end_time": "2021-08-31T05:52:56.014587",
     "exception": false,
     "start_time": "2021-08-31T05:52:54.472594",
     "status": "completed"
    },
    "tags": []
   },
   "outputs": [],
   "source": [
    "import warnings\n",
    "warnings.filterwarnings('ignore')\n",
    "import numpy as np \n",
    "import pandas as pd \n",
    "\n",
    "# For creating plots\n",
    "import seaborn as sns \n",
    "\n",
    "# For specifying the axes tick format \n",
    "import matplotlib.ticker as mtick \n",
    "import matplotlib.pyplot as plt\n",
    "\n",
    "sns.set(style = 'white')\n",
    "\n",
    "import os\n",
    "\n",
    "# Any results you write to the current directory are saved as output."
   ]
  },
  {
   "cell_type": "markdown",
   "id": "18f4e5a4",
   "metadata": {
    "_uuid": "72e4750b2861fe4d89197b4c73ad861544701c4f",
    "papermill": {
     "duration": 0.05938,
     "end_time": "2021-08-31T05:52:56.132266",
     "exception": false,
     "start_time": "2021-08-31T05:52:56.072886",
     "status": "completed"
    },
    "tags": []
   },
   "source": [
    "**Let us read the data file in the python notebook**"
   ]
  },
  {
   "cell_type": "code",
   "execution_count": 2,
   "id": "9ea371e4",
   "metadata": {
    "_cell_guid": "79c7e3d0-c299-4dcb-8224-4455121ee9b0",
    "_uuid": "d629ff2d2480ee46fbb7e2d37f6b5fab8052498a",
    "execution": {
     "iopub.execute_input": "2021-08-31T05:52:56.261992Z",
     "iopub.status.busy": "2021-08-31T05:52:56.261226Z",
     "iopub.status.idle": "2021-08-31T05:52:56.328242Z",
     "shell.execute_reply": "2021-08-31T05:52:56.328838Z",
     "shell.execute_reply.started": "2021-08-31T05:51:50.469291Z"
    },
    "papermill": {
     "duration": 0.134461,
     "end_time": "2021-08-31T05:52:56.329053",
     "exception": false,
     "start_time": "2021-08-31T05:52:56.194592",
     "status": "completed"
    },
    "tags": []
   },
   "outputs": [],
   "source": [
    "telecom_cus = pd.read_csv('WA_Fn-UseC_-Telco-Customer-Churn.csv')"
   ]
  },
  {
   "cell_type": "code",
   "execution_count": 3,
   "id": "a53d17db",
   "metadata": {
    "_uuid": "9dc64474af58b8114afb60f83cd1a002722ba74c",
    "execution": {
     "iopub.execute_input": "2021-08-31T05:52:56.452521Z",
     "iopub.status.busy": "2021-08-31T05:52:56.451459Z",
     "iopub.status.idle": "2021-08-31T05:52:56.505652Z",
     "shell.execute_reply": "2021-08-31T05:52:56.506271Z",
     "shell.execute_reply.started": "2021-08-31T05:51:50.535137Z"
    },
    "papermill": {
     "duration": 0.117791,
     "end_time": "2021-08-31T05:52:56.506477",
     "exception": false,
     "start_time": "2021-08-31T05:52:56.388686",
     "status": "completed"
    },
    "scrolled": false,
    "tags": []
   },
   "outputs": [
    {
     "data": {
      "text/html": [
       "<div>\n",
       "<style scoped>\n",
       "    .dataframe tbody tr th:only-of-type {\n",
       "        vertical-align: middle;\n",
       "    }\n",
       "\n",
       "    .dataframe tbody tr th {\n",
       "        vertical-align: top;\n",
       "    }\n",
       "\n",
       "    .dataframe thead th {\n",
       "        text-align: right;\n",
       "    }\n",
       "</style>\n",
       "<table border=\"1\" class=\"dataframe\">\n",
       "  <thead>\n",
       "    <tr style=\"text-align: right;\">\n",
       "      <th></th>\n",
       "      <th>customerID</th>\n",
       "      <th>gender</th>\n",
       "      <th>SeniorCitizen</th>\n",
       "      <th>Partner</th>\n",
       "      <th>Dependents</th>\n",
       "      <th>tenure</th>\n",
       "      <th>PhoneService</th>\n",
       "      <th>MultipleLines</th>\n",
       "      <th>InternetService</th>\n",
       "      <th>OnlineSecurity</th>\n",
       "      <th>...</th>\n",
       "      <th>DeviceProtection</th>\n",
       "      <th>TechSupport</th>\n",
       "      <th>StreamingTV</th>\n",
       "      <th>StreamingMovies</th>\n",
       "      <th>Contract</th>\n",
       "      <th>PaperlessBilling</th>\n",
       "      <th>PaymentMethod</th>\n",
       "      <th>MonthlyCharges</th>\n",
       "      <th>TotalCharges</th>\n",
       "      <th>Churn</th>\n",
       "    </tr>\n",
       "  </thead>\n",
       "  <tbody>\n",
       "    <tr>\n",
       "      <th>0</th>\n",
       "      <td>7590-VHVEG</td>\n",
       "      <td>Female</td>\n",
       "      <td>0</td>\n",
       "      <td>Yes</td>\n",
       "      <td>No</td>\n",
       "      <td>1</td>\n",
       "      <td>No</td>\n",
       "      <td>No phone service</td>\n",
       "      <td>DSL</td>\n",
       "      <td>No</td>\n",
       "      <td>...</td>\n",
       "      <td>No</td>\n",
       "      <td>No</td>\n",
       "      <td>No</td>\n",
       "      <td>No</td>\n",
       "      <td>Month-to-month</td>\n",
       "      <td>Yes</td>\n",
       "      <td>Electronic check</td>\n",
       "      <td>29.85</td>\n",
       "      <td>29.85</td>\n",
       "      <td>No</td>\n",
       "    </tr>\n",
       "    <tr>\n",
       "      <th>1</th>\n",
       "      <td>5575-GNVDE</td>\n",
       "      <td>Male</td>\n",
       "      <td>0</td>\n",
       "      <td>No</td>\n",
       "      <td>No</td>\n",
       "      <td>34</td>\n",
       "      <td>Yes</td>\n",
       "      <td>No</td>\n",
       "      <td>DSL</td>\n",
       "      <td>Yes</td>\n",
       "      <td>...</td>\n",
       "      <td>Yes</td>\n",
       "      <td>No</td>\n",
       "      <td>No</td>\n",
       "      <td>No</td>\n",
       "      <td>One year</td>\n",
       "      <td>No</td>\n",
       "      <td>Mailed check</td>\n",
       "      <td>56.95</td>\n",
       "      <td>1889.5</td>\n",
       "      <td>No</td>\n",
       "    </tr>\n",
       "    <tr>\n",
       "      <th>2</th>\n",
       "      <td>3668-QPYBK</td>\n",
       "      <td>Male</td>\n",
       "      <td>0</td>\n",
       "      <td>No</td>\n",
       "      <td>No</td>\n",
       "      <td>2</td>\n",
       "      <td>Yes</td>\n",
       "      <td>No</td>\n",
       "      <td>DSL</td>\n",
       "      <td>Yes</td>\n",
       "      <td>...</td>\n",
       "      <td>No</td>\n",
       "      <td>No</td>\n",
       "      <td>No</td>\n",
       "      <td>No</td>\n",
       "      <td>Month-to-month</td>\n",
       "      <td>Yes</td>\n",
       "      <td>Mailed check</td>\n",
       "      <td>53.85</td>\n",
       "      <td>108.15</td>\n",
       "      <td>Yes</td>\n",
       "    </tr>\n",
       "    <tr>\n",
       "      <th>3</th>\n",
       "      <td>7795-CFOCW</td>\n",
       "      <td>Male</td>\n",
       "      <td>0</td>\n",
       "      <td>No</td>\n",
       "      <td>No</td>\n",
       "      <td>45</td>\n",
       "      <td>No</td>\n",
       "      <td>No phone service</td>\n",
       "      <td>DSL</td>\n",
       "      <td>Yes</td>\n",
       "      <td>...</td>\n",
       "      <td>Yes</td>\n",
       "      <td>Yes</td>\n",
       "      <td>No</td>\n",
       "      <td>No</td>\n",
       "      <td>One year</td>\n",
       "      <td>No</td>\n",
       "      <td>Bank transfer (automatic)</td>\n",
       "      <td>42.30</td>\n",
       "      <td>1840.75</td>\n",
       "      <td>No</td>\n",
       "    </tr>\n",
       "    <tr>\n",
       "      <th>4</th>\n",
       "      <td>9237-HQITU</td>\n",
       "      <td>Female</td>\n",
       "      <td>0</td>\n",
       "      <td>No</td>\n",
       "      <td>No</td>\n",
       "      <td>2</td>\n",
       "      <td>Yes</td>\n",
       "      <td>No</td>\n",
       "      <td>Fiber optic</td>\n",
       "      <td>No</td>\n",
       "      <td>...</td>\n",
       "      <td>No</td>\n",
       "      <td>No</td>\n",
       "      <td>No</td>\n",
       "      <td>No</td>\n",
       "      <td>Month-to-month</td>\n",
       "      <td>Yes</td>\n",
       "      <td>Electronic check</td>\n",
       "      <td>70.70</td>\n",
       "      <td>151.65</td>\n",
       "      <td>Yes</td>\n",
       "    </tr>\n",
       "  </tbody>\n",
       "</table>\n",
       "<p>5 rows × 21 columns</p>\n",
       "</div>"
      ],
      "text/plain": [
       "   customerID  gender  SeniorCitizen Partner Dependents  tenure PhoneService  \\\n",
       "0  7590-VHVEG  Female              0     Yes         No       1           No   \n",
       "1  5575-GNVDE    Male              0      No         No      34          Yes   \n",
       "2  3668-QPYBK    Male              0      No         No       2          Yes   \n",
       "3  7795-CFOCW    Male              0      No         No      45           No   \n",
       "4  9237-HQITU  Female              0      No         No       2          Yes   \n",
       "\n",
       "      MultipleLines InternetService OnlineSecurity  ... DeviceProtection  \\\n",
       "0  No phone service             DSL             No  ...               No   \n",
       "1                No             DSL            Yes  ...              Yes   \n",
       "2                No             DSL            Yes  ...               No   \n",
       "3  No phone service             DSL            Yes  ...              Yes   \n",
       "4                No     Fiber optic             No  ...               No   \n",
       "\n",
       "  TechSupport StreamingTV StreamingMovies        Contract PaperlessBilling  \\\n",
       "0          No          No              No  Month-to-month              Yes   \n",
       "1          No          No              No        One year               No   \n",
       "2          No          No              No  Month-to-month              Yes   \n",
       "3         Yes          No              No        One year               No   \n",
       "4          No          No              No  Month-to-month              Yes   \n",
       "\n",
       "               PaymentMethod MonthlyCharges  TotalCharges Churn  \n",
       "0           Electronic check          29.85         29.85    No  \n",
       "1               Mailed check          56.95        1889.5    No  \n",
       "2               Mailed check          53.85        108.15   Yes  \n",
       "3  Bank transfer (automatic)          42.30       1840.75    No  \n",
       "4           Electronic check          70.70        151.65   Yes  \n",
       "\n",
       "[5 rows x 21 columns]"
      ]
     },
     "execution_count": 3,
     "metadata": {},
     "output_type": "execute_result"
    }
   ],
   "source": [
    "telecom_cus.head()"
   ]
  },
  {
   "cell_type": "markdown",
   "id": "b3bdcc25",
   "metadata": {},
   "source": [
    "## Data Cleaning"
   ]
  },
  {
   "cell_type": "code",
   "execution_count": 4,
   "id": "ac6ebc8c",
   "metadata": {},
   "outputs": [
    {
     "data": {
      "text/html": [
       "<div>\n",
       "<style scoped>\n",
       "    .dataframe tbody tr th:only-of-type {\n",
       "        vertical-align: middle;\n",
       "    }\n",
       "\n",
       "    .dataframe tbody tr th {\n",
       "        vertical-align: top;\n",
       "    }\n",
       "\n",
       "    .dataframe thead th {\n",
       "        text-align: right;\n",
       "    }\n",
       "</style>\n",
       "<table border=\"1\" class=\"dataframe\">\n",
       "  <thead>\n",
       "    <tr style=\"text-align: right;\">\n",
       "      <th></th>\n",
       "      <th>SeniorCitizen</th>\n",
       "      <th>tenure</th>\n",
       "      <th>MonthlyCharges</th>\n",
       "    </tr>\n",
       "  </thead>\n",
       "  <tbody>\n",
       "    <tr>\n",
       "      <th>count</th>\n",
       "      <td>7043.000000</td>\n",
       "      <td>7043.000000</td>\n",
       "      <td>7043.000000</td>\n",
       "    </tr>\n",
       "    <tr>\n",
       "      <th>mean</th>\n",
       "      <td>0.162147</td>\n",
       "      <td>32.371149</td>\n",
       "      <td>64.761692</td>\n",
       "    </tr>\n",
       "    <tr>\n",
       "      <th>std</th>\n",
       "      <td>0.368612</td>\n",
       "      <td>24.559481</td>\n",
       "      <td>30.090047</td>\n",
       "    </tr>\n",
       "    <tr>\n",
       "      <th>min</th>\n",
       "      <td>0.000000</td>\n",
       "      <td>0.000000</td>\n",
       "      <td>18.250000</td>\n",
       "    </tr>\n",
       "    <tr>\n",
       "      <th>25%</th>\n",
       "      <td>0.000000</td>\n",
       "      <td>9.000000</td>\n",
       "      <td>35.500000</td>\n",
       "    </tr>\n",
       "    <tr>\n",
       "      <th>50%</th>\n",
       "      <td>0.000000</td>\n",
       "      <td>29.000000</td>\n",
       "      <td>70.350000</td>\n",
       "    </tr>\n",
       "    <tr>\n",
       "      <th>75%</th>\n",
       "      <td>0.000000</td>\n",
       "      <td>55.000000</td>\n",
       "      <td>89.850000</td>\n",
       "    </tr>\n",
       "    <tr>\n",
       "      <th>max</th>\n",
       "      <td>1.000000</td>\n",
       "      <td>72.000000</td>\n",
       "      <td>118.750000</td>\n",
       "    </tr>\n",
       "  </tbody>\n",
       "</table>\n",
       "</div>"
      ],
      "text/plain": [
       "       SeniorCitizen       tenure  MonthlyCharges\n",
       "count    7043.000000  7043.000000     7043.000000\n",
       "mean        0.162147    32.371149       64.761692\n",
       "std         0.368612    24.559481       30.090047\n",
       "min         0.000000     0.000000       18.250000\n",
       "25%         0.000000     9.000000       35.500000\n",
       "50%         0.000000    29.000000       70.350000\n",
       "75%         0.000000    55.000000       89.850000\n",
       "max         1.000000    72.000000      118.750000"
      ]
     },
     "execution_count": 4,
     "metadata": {},
     "output_type": "execute_result"
    }
   ],
   "source": [
    "telecom_cus.describe()"
   ]
  },
  {
   "cell_type": "code",
   "execution_count": 5,
   "id": "e6b14ebc",
   "metadata": {},
   "outputs": [
    {
     "data": {
      "text/plain": [
       "(7043, 21)"
      ]
     },
     "execution_count": 5,
     "metadata": {},
     "output_type": "execute_result"
    }
   ],
   "source": [
    "telecom_cus.shape"
   ]
  },
  {
   "cell_type": "code",
   "execution_count": 6,
   "id": "fdc7c178",
   "metadata": {},
   "outputs": [
    {
     "data": {
      "text/plain": [
       "Index(['customerID', 'gender', 'SeniorCitizen', 'Partner', 'Dependents',\n",
       "       'tenure', 'PhoneService', 'MultipleLines', 'InternetService',\n",
       "       'OnlineSecurity', 'OnlineBackup', 'DeviceProtection', 'TechSupport',\n",
       "       'StreamingTV', 'StreamingMovies', 'Contract', 'PaperlessBilling',\n",
       "       'PaymentMethod', 'MonthlyCharges', 'TotalCharges', 'Churn'],\n",
       "      dtype='object')"
      ]
     },
     "execution_count": 6,
     "metadata": {},
     "output_type": "execute_result"
    }
   ],
   "source": [
    "telecom_cus.columns"
   ]
  },
  {
   "cell_type": "markdown",
   "id": "5c0cdfa3",
   "metadata": {
    "_uuid": "16fb2729865787705742df465100419d7988837c",
    "papermill": {
     "duration": 0.058393,
     "end_time": "2021-08-31T05:52:56.753702",
     "exception": false,
     "start_time": "2021-08-31T05:52:56.695309",
     "status": "completed"
    },
    "tags": []
   },
   "source": [
    "**Let's explore the data to see if there are any missing values.**"
   ]
  },
  {
   "cell_type": "code",
   "execution_count": 7,
   "id": "3e16c5a0",
   "metadata": {
    "_uuid": "641531c5f3131228c78e6a200e0410a161ccb2b0",
    "execution": {
     "iopub.execute_input": "2021-08-31T05:52:56.886882Z",
     "iopub.status.busy": "2021-08-31T05:52:56.886164Z",
     "iopub.status.idle": "2021-08-31T05:52:56.890632Z",
     "shell.execute_reply": "2021-08-31T05:52:56.889971Z",
     "shell.execute_reply.started": "2021-08-31T05:51:50.599273Z"
    },
    "papermill": {
     "duration": 0.075081,
     "end_time": "2021-08-31T05:52:56.890789",
     "exception": false,
     "start_time": "2021-08-31T05:52:56.815708",
     "status": "completed"
    },
    "tags": []
   },
   "outputs": [
    {
     "data": {
      "text/plain": [
       "customerID           object\n",
       "gender               object\n",
       "SeniorCitizen         int64\n",
       "Partner              object\n",
       "Dependents           object\n",
       "tenure                int64\n",
       "PhoneService         object\n",
       "MultipleLines        object\n",
       "InternetService      object\n",
       "OnlineSecurity       object\n",
       "OnlineBackup         object\n",
       "DeviceProtection     object\n",
       "TechSupport          object\n",
       "StreamingTV          object\n",
       "StreamingMovies      object\n",
       "Contract             object\n",
       "PaperlessBilling     object\n",
       "PaymentMethod        object\n",
       "MonthlyCharges      float64\n",
       "TotalCharges         object\n",
       "Churn                object\n",
       "dtype: object"
      ]
     },
     "execution_count": 7,
     "metadata": {},
     "output_type": "execute_result"
    }
   ],
   "source": [
    "# Checking the data types of all the columns\n",
    "telecom_cus.dtypes"
   ]
  },
  {
   "cell_type": "code",
   "execution_count": 8,
   "id": "82ead940",
   "metadata": {
    "_uuid": "1d2c01029124a6fe73b3ec3fc4efdb66647d64e1",
    "execution": {
     "iopub.execute_input": "2021-08-31T05:52:57.029954Z",
     "iopub.status.busy": "2021-08-31T05:52:57.029170Z",
     "iopub.status.idle": "2021-08-31T05:52:57.053034Z",
     "shell.execute_reply": "2021-08-31T05:52:57.052347Z",
     "shell.execute_reply.started": "2021-08-31T05:51:50.615202Z"
    },
    "papermill": {
     "duration": 0.102392,
     "end_time": "2021-08-31T05:52:57.053209",
     "exception": false,
     "start_time": "2021-08-31T05:52:56.950817",
     "status": "completed"
    },
    "tags": []
   },
   "outputs": [
    {
     "data": {
      "text/plain": [
       "customerID           0\n",
       "gender               0\n",
       "SeniorCitizen        0\n",
       "Partner              0\n",
       "Dependents           0\n",
       "tenure               0\n",
       "PhoneService         0\n",
       "MultipleLines        0\n",
       "InternetService      0\n",
       "OnlineSecurity       0\n",
       "OnlineBackup         0\n",
       "DeviceProtection     0\n",
       "TechSupport          0\n",
       "StreamingTV          0\n",
       "StreamingMovies      0\n",
       "Contract             0\n",
       "PaperlessBilling     0\n",
       "PaymentMethod        0\n",
       "MonthlyCharges       0\n",
       "TotalCharges        11\n",
       "Churn                0\n",
       "dtype: int64"
      ]
     },
     "execution_count": 8,
     "metadata": {},
     "output_type": "execute_result"
    }
   ],
   "source": [
    "# Converting Total Charges to a numerical data type.\n",
    "telecom_cus.TotalCharges = pd.to_numeric(telecom_cus.TotalCharges, errors='coerce')\n",
    "telecom_cus.isnull().sum()"
   ]
  },
  {
   "cell_type": "markdown",
   "id": "686641e4",
   "metadata": {
    "_uuid": "4c997dec9dbb501333f6a1562e9092e1008df58f",
    "papermill": {
     "duration": 0.058963,
     "end_time": "2021-08-31T05:52:57.173027",
     "exception": false,
     "start_time": "2021-08-31T05:52:57.114064",
     "status": "completed"
    },
    "tags": []
   },
   "source": [
    "After looking at the above output, we can say that there are 11 missing values for Total Charges. Let us replace remove these 11 rows from our data set"
   ]
  },
  {
   "cell_type": "code",
   "execution_count": 9,
   "id": "d8dd1827",
   "metadata": {
    "_uuid": "35b6c18a5b84dd1e5fa014b49fcfce8ee43aaabe",
    "execution": {
     "iopub.execute_input": "2021-08-31T05:52:57.302623Z",
     "iopub.status.busy": "2021-08-31T05:52:57.301914Z",
     "iopub.status.idle": "2021-08-31T05:52:57.410442Z",
     "shell.execute_reply": "2021-08-31T05:52:57.409883Z",
     "shell.execute_reply.started": "2021-08-31T05:51:50.652268Z"
    },
    "papermill": {
     "duration": 0.176737,
     "end_time": "2021-08-31T05:52:57.410609",
     "exception": false,
     "start_time": "2021-08-31T05:52:57.233872",
     "status": "completed"
    },
    "tags": []
   },
   "outputs": [
    {
     "data": {
      "text/html": [
       "<div>\n",
       "<style scoped>\n",
       "    .dataframe tbody tr th:only-of-type {\n",
       "        vertical-align: middle;\n",
       "    }\n",
       "\n",
       "    .dataframe tbody tr th {\n",
       "        vertical-align: top;\n",
       "    }\n",
       "\n",
       "    .dataframe thead th {\n",
       "        text-align: right;\n",
       "    }\n",
       "</style>\n",
       "<table border=\"1\" class=\"dataframe\">\n",
       "  <thead>\n",
       "    <tr style=\"text-align: right;\">\n",
       "      <th></th>\n",
       "      <th>SeniorCitizen</th>\n",
       "      <th>tenure</th>\n",
       "      <th>MonthlyCharges</th>\n",
       "      <th>TotalCharges</th>\n",
       "      <th>Churn</th>\n",
       "      <th>gender_Female</th>\n",
       "      <th>gender_Male</th>\n",
       "      <th>Partner_No</th>\n",
       "      <th>Partner_Yes</th>\n",
       "      <th>Dependents_No</th>\n",
       "      <th>...</th>\n",
       "      <th>StreamingMovies_Yes</th>\n",
       "      <th>Contract_Month-to-month</th>\n",
       "      <th>Contract_One year</th>\n",
       "      <th>Contract_Two year</th>\n",
       "      <th>PaperlessBilling_No</th>\n",
       "      <th>PaperlessBilling_Yes</th>\n",
       "      <th>PaymentMethod_Bank transfer (automatic)</th>\n",
       "      <th>PaymentMethod_Credit card (automatic)</th>\n",
       "      <th>PaymentMethod_Electronic check</th>\n",
       "      <th>PaymentMethod_Mailed check</th>\n",
       "    </tr>\n",
       "  </thead>\n",
       "  <tbody>\n",
       "    <tr>\n",
       "      <th>0</th>\n",
       "      <td>0</td>\n",
       "      <td>1</td>\n",
       "      <td>29.85</td>\n",
       "      <td>29.85</td>\n",
       "      <td>0</td>\n",
       "      <td>1</td>\n",
       "      <td>0</td>\n",
       "      <td>0</td>\n",
       "      <td>1</td>\n",
       "      <td>1</td>\n",
       "      <td>...</td>\n",
       "      <td>0</td>\n",
       "      <td>1</td>\n",
       "      <td>0</td>\n",
       "      <td>0</td>\n",
       "      <td>0</td>\n",
       "      <td>1</td>\n",
       "      <td>0</td>\n",
       "      <td>0</td>\n",
       "      <td>1</td>\n",
       "      <td>0</td>\n",
       "    </tr>\n",
       "    <tr>\n",
       "      <th>1</th>\n",
       "      <td>0</td>\n",
       "      <td>34</td>\n",
       "      <td>56.95</td>\n",
       "      <td>1889.50</td>\n",
       "      <td>0</td>\n",
       "      <td>0</td>\n",
       "      <td>1</td>\n",
       "      <td>1</td>\n",
       "      <td>0</td>\n",
       "      <td>1</td>\n",
       "      <td>...</td>\n",
       "      <td>0</td>\n",
       "      <td>0</td>\n",
       "      <td>1</td>\n",
       "      <td>0</td>\n",
       "      <td>1</td>\n",
       "      <td>0</td>\n",
       "      <td>0</td>\n",
       "      <td>0</td>\n",
       "      <td>0</td>\n",
       "      <td>1</td>\n",
       "    </tr>\n",
       "    <tr>\n",
       "      <th>2</th>\n",
       "      <td>0</td>\n",
       "      <td>2</td>\n",
       "      <td>53.85</td>\n",
       "      <td>108.15</td>\n",
       "      <td>1</td>\n",
       "      <td>0</td>\n",
       "      <td>1</td>\n",
       "      <td>1</td>\n",
       "      <td>0</td>\n",
       "      <td>1</td>\n",
       "      <td>...</td>\n",
       "      <td>0</td>\n",
       "      <td>1</td>\n",
       "      <td>0</td>\n",
       "      <td>0</td>\n",
       "      <td>0</td>\n",
       "      <td>1</td>\n",
       "      <td>0</td>\n",
       "      <td>0</td>\n",
       "      <td>0</td>\n",
       "      <td>1</td>\n",
       "    </tr>\n",
       "    <tr>\n",
       "      <th>3</th>\n",
       "      <td>0</td>\n",
       "      <td>45</td>\n",
       "      <td>42.30</td>\n",
       "      <td>1840.75</td>\n",
       "      <td>0</td>\n",
       "      <td>0</td>\n",
       "      <td>1</td>\n",
       "      <td>1</td>\n",
       "      <td>0</td>\n",
       "      <td>1</td>\n",
       "      <td>...</td>\n",
       "      <td>0</td>\n",
       "      <td>0</td>\n",
       "      <td>1</td>\n",
       "      <td>0</td>\n",
       "      <td>1</td>\n",
       "      <td>0</td>\n",
       "      <td>1</td>\n",
       "      <td>0</td>\n",
       "      <td>0</td>\n",
       "      <td>0</td>\n",
       "    </tr>\n",
       "    <tr>\n",
       "      <th>4</th>\n",
       "      <td>0</td>\n",
       "      <td>2</td>\n",
       "      <td>70.70</td>\n",
       "      <td>151.65</td>\n",
       "      <td>1</td>\n",
       "      <td>1</td>\n",
       "      <td>0</td>\n",
       "      <td>1</td>\n",
       "      <td>0</td>\n",
       "      <td>1</td>\n",
       "      <td>...</td>\n",
       "      <td>0</td>\n",
       "      <td>1</td>\n",
       "      <td>0</td>\n",
       "      <td>0</td>\n",
       "      <td>0</td>\n",
       "      <td>1</td>\n",
       "      <td>0</td>\n",
       "      <td>0</td>\n",
       "      <td>1</td>\n",
       "      <td>0</td>\n",
       "    </tr>\n",
       "  </tbody>\n",
       "</table>\n",
       "<p>5 rows × 46 columns</p>\n",
       "</div>"
      ],
      "text/plain": [
       "   SeniorCitizen  tenure  MonthlyCharges  TotalCharges  Churn  gender_Female  \\\n",
       "0              0       1           29.85         29.85      0              1   \n",
       "1              0      34           56.95       1889.50      0              0   \n",
       "2              0       2           53.85        108.15      1              0   \n",
       "3              0      45           42.30       1840.75      0              0   \n",
       "4              0       2           70.70        151.65      1              1   \n",
       "\n",
       "   gender_Male  Partner_No  Partner_Yes  Dependents_No  ...  \\\n",
       "0            0           0            1              1  ...   \n",
       "1            1           1            0              1  ...   \n",
       "2            1           1            0              1  ...   \n",
       "3            1           1            0              1  ...   \n",
       "4            0           1            0              1  ...   \n",
       "\n",
       "   StreamingMovies_Yes  Contract_Month-to-month  Contract_One year  \\\n",
       "0                    0                        1                  0   \n",
       "1                    0                        0                  1   \n",
       "2                    0                        1                  0   \n",
       "3                    0                        0                  1   \n",
       "4                    0                        1                  0   \n",
       "\n",
       "   Contract_Two year  PaperlessBilling_No  PaperlessBilling_Yes  \\\n",
       "0                  0                    0                     1   \n",
       "1                  0                    1                     0   \n",
       "2                  0                    0                     1   \n",
       "3                  0                    1                     0   \n",
       "4                  0                    0                     1   \n",
       "\n",
       "   PaymentMethod_Bank transfer (automatic)  \\\n",
       "0                                        0   \n",
       "1                                        0   \n",
       "2                                        0   \n",
       "3                                        1   \n",
       "4                                        0   \n",
       "\n",
       "   PaymentMethod_Credit card (automatic)  PaymentMethod_Electronic check  \\\n",
       "0                                      0                               1   \n",
       "1                                      0                               0   \n",
       "2                                      0                               0   \n",
       "3                                      0                               0   \n",
       "4                                      0                               1   \n",
       "\n",
       "   PaymentMethod_Mailed check  \n",
       "0                           0  \n",
       "1                           1  \n",
       "2                           1  \n",
       "3                           0  \n",
       "4                           0  \n",
       "\n",
       "[5 rows x 46 columns]"
      ]
     },
     "execution_count": 9,
     "metadata": {},
     "output_type": "execute_result"
    }
   ],
   "source": [
    "#Removing missing values \n",
    "telecom_cus.dropna(inplace = True)\n",
    "\n",
    "df2 = telecom_cus.iloc[:,1:]\n",
    "#Convertin the predictor variable in a binary numeric variable\n",
    "df2['Churn'].replace(to_replace='Yes', value=1, inplace=True)\n",
    "df2['Churn'].replace(to_replace='No',  value=0, inplace=True)\n",
    "\n",
    "#converting all the categorical variables into dummy variables\n",
    "df_dummies = pd.get_dummies(df2)\n",
    "df_dummies.head()"
   ]
  },
  {
   "cell_type": "code",
   "execution_count": 10,
   "id": "3b241a29",
   "metadata": {
    "_uuid": "57fad0b9bcd9188193c84ae48ea589123532eac8",
    "execution": {
     "iopub.execute_input": "2021-08-31T05:52:57.541365Z",
     "iopub.status.busy": "2021-08-31T05:52:57.540611Z",
     "iopub.status.idle": "2021-08-31T05:52:58.738362Z",
     "shell.execute_reply": "2021-08-31T05:52:58.737742Z",
     "shell.execute_reply.started": "2021-08-31T05:51:50.753462Z"
    },
    "papermill": {
     "duration": 1.26712,
     "end_time": "2021-08-31T05:52:58.738523",
     "exception": false,
     "start_time": "2021-08-31T05:52:57.471403",
     "status": "completed"
    },
    "tags": []
   },
   "outputs": [
    {
     "data": {
      "text/plain": [
       "<AxesSubplot:>"
      ]
     },
     "execution_count": 10,
     "metadata": {},
     "output_type": "execute_result"
    },
    {
     "data": {
      "image/png": "[encoded data removed]",
      "text/plain": [
       "<Figure size 1080x576 with 1 Axes>"
      ]
     },
     "metadata": {
      "needs_background": "light"
     },
     "output_type": "display_data"
    }
   ],
   "source": [
    "#Get Correlation of \"Churn\" with other variables:\n",
    "plt.figure(figsize=(15,8))\n",
    "df_dummies.corr()['Churn'].sort_values(ascending = False).plot(kind='bar')"
   ]
  },
  {
   "cell_type": "markdown",
   "id": "533d9272",
   "metadata": {
    "_uuid": "e4f114358ce3d568a34c1ac419623274a345812e",
    "papermill": {
     "duration": 0.064893,
     "end_time": "2021-08-31T05:52:58.870601",
     "exception": false,
     "start_time": "2021-08-31T05:52:58.805708",
     "status": "completed"
    },
    "tags": []
   },
   "source": [
    "Month to month contracts, absence of online security and tech support seem to be positively correlated with churn. While, tenure, two year contracts seem to be negatively correlated with churn. \n",
    "\n",
    "Interestingly, services such as Online security, streaming TV, online backup, tech support, etc. without internet connection seem to be negatively related to churn."
   ]
  },
  {
   "cell_type": "markdown",
   "id": "82cd7754",
   "metadata": {
    "_uuid": "36df8a7ca36ca8afe570cc985582ef12bc1bc7f8",
    "papermill": {
     "duration": 0.063953,
     "end_time": "2021-08-31T05:52:59.000274",
     "exception": false,
     "start_time": "2021-08-31T05:52:58.936321",
     "status": "completed"
    },
    "tags": []
   },
   "source": [
    "## Data Exploration\n",
    "\n",
    "Let us first start with exploring our data set, to better understand the patterns in the data and potentially form some hypothesis. First we will look at the distribution of individual variables and then slice and dice our data for any interesting trends."
   ]
  },
  {
   "cell_type": "code",
   "execution_count": 11,
   "id": "7238893a",
   "metadata": {
    "_uuid": "d507f49a7e96b7618b57e0812eed8847543b1c64",
    "execution": {
     "iopub.execute_input": "2021-08-31T05:52:59.411561Z",
     "iopub.status.busy": "2021-08-31T05:52:59.410770Z",
     "iopub.status.idle": "2021-08-31T05:52:59.596640Z",
     "shell.execute_reply": "2021-08-31T05:52:59.597177Z",
     "shell.execute_reply.started": "2021-08-31T05:51:51.879358Z"
    },
    "papermill": {
     "duration": 0.261706,
     "end_time": "2021-08-31T05:52:59.597397",
     "exception": false,
     "start_time": "2021-08-31T05:52:59.335691",
     "status": "completed"
    },
    "tags": []
   },
   "outputs": [
    {
     "data": {
      "image/png": "[encoded data removed]",
      "text/plain": [
       "<Figure size 432x288 with 1 Axes>"
      ]
     },
     "metadata": {
      "needs_background": "light"
     },
     "output_type": "display_data"
    }
   ],
   "source": [
    "colors = ['#4D3425','#E4512B']\n",
    "ax = (telecom_cus['gender'].value_counts()*100.0 /len(telecom_cus)).plot(kind='bar',\n",
    "                                                                           stacked = True,\n",
    "                                                                          rot = 0,\n",
    "                                                                          color = colors)\n",
    "ax.yaxis.set_major_formatter(mtick.PercentFormatter())\n",
    "ax.set_ylabel('% Customers')\n",
    "ax.set_xlabel('Gender')\n",
    "ax.set_ylabel('% Customers')\n",
    "ax.set_title('Gender Distribution')\n",
    "\n",
    "totals = []\n",
    "\n",
    "for i in ax.patches:\n",
    "    totals.append(i.get_width())\n",
    "\n",
    "total = sum(totals)\n",
    "\n",
    "for i in ax.patches:\n",
    "    ax.text(i.get_x()+.15, i.get_height()-3.5, \\\n",
    "            str(round((i.get_height()/total), 1))+'%',\n",
    "            fontsize=12,\n",
    "            color='white',\n",
    "           weight = 'bold')"
   ]
  },
  {
   "cell_type": "markdown",
   "id": "e66b5df2",
   "metadata": {
    "_uuid": "b9cceb14a980ddcd1ac36552947f1571706e0c17",
    "papermill": {
     "duration": 0.067393,
     "end_time": "2021-08-31T05:52:59.731925",
     "exception": false,
     "start_time": "2021-08-31T05:52:59.664532",
     "status": "completed"
    },
    "tags": []
   },
   "source": [
    " **% Senior Citizens** - There are only 16% of the customers who are senior citizens. Thus most of our customers in the data are younger people.\n"
   ]
  },
  {
   "cell_type": "code",
   "execution_count": 12,
   "id": "7c25a069",
   "metadata": {
    "_uuid": "b552f24e928a6e41806ddfa10f49c331988e60e3",
    "execution": {
     "iopub.execute_input": "2021-08-31T05:52:59.867192Z",
     "iopub.status.busy": "2021-08-31T05:52:59.866438Z",
     "iopub.status.idle": "2021-08-31T05:53:00.042207Z",
     "shell.execute_reply": "2021-08-31T05:53:00.043071Z",
     "shell.execute_reply.started": "2021-08-31T05:51:52.070379Z"
    },
    "papermill": {
     "duration": 0.246474,
     "end_time": "2021-08-31T05:53:00.043378",
     "exception": false,
     "start_time": "2021-08-31T05:52:59.796904",
     "status": "completed"
    },
    "tags": []
   },
   "outputs": [
    {
     "data": {
      "text/plain": [
       "Text(0.5, 1.0, '% of Senior Citizens')"
      ]
     },
     "execution_count": 12,
     "metadata": {},
     "output_type": "execute_result"
    },
    {
     "data": {
      "image/png": "[encoded data removed]",
      "text/plain": [
       "<Figure size 360x360 with 1 Axes>"
      ]
     },
     "metadata": {},
     "output_type": "display_data"
    }
   ],
   "source": [
    "ax = (telecom_cus['SeniorCitizen'].value_counts()*100.0 /len(telecom_cus))\\\n",
    ".plot.pie(autopct='%.1f%%', labels = ['No', 'Yes'],figsize =(5,5), fontsize = 12 )                                                                           \n",
    "ax.yaxis.set_major_formatter(mtick.PercentFormatter())\n",
    "ax.set_ylabel('Senior Citizens',fontsize = 12)\n",
    "ax.set_title('% of Senior Citizens', fontsize = 12)"
   ]
  },
  {
   "cell_type": "markdown",
   "id": "9f807b09",
   "metadata": {
    "_uuid": "ae9ffa571dcf10f3cb0d8dc56e827cdf25fcf4e5",
    "papermill": {
     "duration": 0.069603,
     "end_time": "2021-08-31T05:53:00.201171",
     "exception": false,
     "start_time": "2021-08-31T05:53:00.131568",
     "status": "completed"
    },
    "tags": []
   },
   "source": [
    " **Partner and dependent status**  - About 50% of the customers have a partner, while only 30% of the total customers have dependents. "
   ]
  },
  {
   "cell_type": "code",
   "execution_count": 13,
   "id": "af2eabb7",
   "metadata": {
    "_uuid": "6127f191c43a00f8f0bc865c327ce0632e2eeb3e",
    "execution": {
     "iopub.execute_input": "2021-08-31T05:53:00.371559Z",
     "iopub.status.busy": "2021-08-31T05:53:00.370082Z",
     "iopub.status.idle": "2021-08-31T05:53:00.627480Z",
     "shell.execute_reply": "2021-08-31T05:53:00.625962Z",
     "shell.execute_reply.started": "2021-08-31T05:51:52.205945Z"
    },
    "papermill": {
     "duration": 0.339066,
     "end_time": "2021-08-31T05:53:00.627676",
     "exception": false,
     "start_time": "2021-08-31T05:53:00.288610",
     "status": "completed"
    },
    "tags": []
   },
   "outputs": [
    {
     "data": {
      "image/png": "[encoded data removed]",
      "text/plain": [
       "<Figure size 576x432 with 1 Axes>"
      ]
     },
     "metadata": {
      "needs_background": "light"
     },
     "output_type": "display_data"
    }
   ],
   "source": [
    "df2 = pd.melt(telecom_cus, id_vars=['customerID'], value_vars=['Dependents','Partner'])\n",
    "df3 = df2.groupby(['variable','value']).count().unstack()\n",
    "df3 = df3*100/len(telecom_cus)\n",
    "colors = ['#4D3425','#E4512B']\n",
    "ax = df3.loc[:,'customerID'].plot.bar(stacked=True, color=colors,\n",
    "                                      figsize=(8,6),rot = 0,\n",
    "                                     width = 0.2)\n",
    "\n",
    "ax.yaxis.set_major_formatter(mtick.PercentFormatter())\n",
    "ax.set_ylabel('% of Customers',size = 14)\n",
    "ax.set_xlabel('')\n",
    "ax.set_title('% of Customers with dependents and partners',size = 14)\n",
    "ax.legend(loc = 'center',prop={'size':14})\n",
    "\n",
    "for p in ax.patches:\n",
    "    width, height = p.get_width(), p.get_height()\n",
    "    x, y = p.get_xy() \n",
    "    ax.annotate('{:.0f}%'.format(height), (p.get_x()+.25*width, p.get_y()+.4*height),\n",
    "                color = 'white',\n",
    "               weight = 'bold',\n",
    "               size = 14)"
   ]
  },
  {
   "cell_type": "markdown",
   "id": "2580772a",
   "metadata": {
    "_uuid": "56ee88a7c14911a3cd79c3b885ac738377baf7aa",
    "papermill": {
     "duration": 0.068942,
     "end_time": "2021-08-31T05:53:00.910680",
     "exception": false,
     "start_time": "2021-08-31T05:53:00.841738",
     "status": "completed"
    },
    "tags": []
   },
   "source": [
    "Interestingly,  among the customers who have a partner, only about half of them also have a dependent, while other half do not have any independents. \n",
    "Additionally, as expected, among the customers who do not have any partner, a majority (80%) of them do not have any dependents ."
   ]
  },
  {
   "cell_type": "code",
   "execution_count": 14,
   "id": "eb37c505",
   "metadata": {
    "_uuid": "f79c281d0cfab3cc8f14979d33834f8834ef9d2e",
    "execution": {
     "iopub.execute_input": "2021-08-31T05:53:01.062987Z",
     "iopub.status.busy": "2021-08-31T05:53:01.061679Z",
     "iopub.status.idle": "2021-08-31T05:53:01.297537Z",
     "shell.execute_reply": "2021-08-31T05:53:01.298068Z",
     "shell.execute_reply.started": "2021-08-31T05:51:52.434746Z"
    },
    "papermill": {
     "duration": 0.315539,
     "end_time": "2021-08-31T05:53:01.298278",
     "exception": false,
     "start_time": "2021-08-31T05:53:00.982739",
     "status": "completed"
    },
    "tags": []
   },
   "outputs": [
    {
     "data": {
      "image/png": "[encoded data removed]",
      "text/plain": [
       "<Figure size 576x432 with 1 Axes>"
      ]
     },
     "metadata": {
      "needs_background": "light"
     },
     "output_type": "display_data"
    }
   ],
   "source": [
    "colors = ['#4D3425','#E4512B']\n",
    "partner_dependents = telecom_cus.groupby(['Partner','Dependents']).size().unstack()\n",
    "\n",
    "ax = (partner_dependents.T*100.0 / partner_dependents.T.sum()).T.plot(kind='bar',\n",
    "                                                                width = 0.2,\n",
    "                                                                stacked = True,\n",
    "                                                                rot = 0, \n",
    "                                                                figsize = (8,6),\n",
    "                                                                color = colors)\n",
    "ax.yaxis.set_major_formatter(mtick.PercentFormatter())\n",
    "ax.legend(loc='center',prop={'size':14},title = 'Dependents',fontsize =14)\n",
    "ax.set_ylabel('% of Customers',size = 14)\n",
    "ax.set_title('% of Customers with/without dependents based on whether they have a partner',size = 14)\n",
    "ax.xaxis.label.set_size(14)\n",
    "\n",
    "# Code to add the data labels on the stacked bar chart\n",
    "for p in ax.patches:\n",
    "    width, height = p.get_width(), p.get_height()\n",
    "    x, y = p.get_xy() \n",
    "    ax.annotate('{:.0f}%'.format(height), (p.get_x()+.25*width, p.get_y()+.4*height),\n",
    "                color = 'white',\n",
    "               weight = 'bold',\n",
    "               size = 14)"
   ]
  },
  {
   "cell_type": "markdown",
   "id": "e99fafe4",
   "metadata": {
    "_uuid": "3da3b87d7066955df9803b71931c5d5f7f5af1bb",
    "papermill": {
     "duration": 0.069877,
     "end_time": "2021-08-31T05:53:01.438261",
     "exception": false,
     "start_time": "2021-08-31T05:53:01.368384",
     "status": "completed"
    },
    "tags": []
   },
   "source": [
    "I also looked at any differences between the % of customers with/without dependents and partners by gender. <br>There is no difference in their distribution by gender. \n",
    "Additionally, there is no difference in senior citizen status by gender."
   ]
  },
  {
   "cell_type": "markdown",
   "id": "a33d68a3",
   "metadata": {
    "_uuid": "479b11772e5d57dbf5a812abdd07a344e876c935",
    "papermill": {
     "duration": 0.068372,
     "end_time": "2021-08-31T05:53:01.576060",
     "exception": false,
     "start_time": "2021-08-31T05:53:01.507688",
     "status": "completed"
    },
    "tags": []
   },
   "source": [
    "###  **Customer Account Information**:  Let us now look at the tenure, contract"
   ]
  },
  {
   "cell_type": "markdown",
   "id": "1a6ef6ec",
   "metadata": {
    "_uuid": "d3090f6fd85039f6c67875eadf51d59b0d3c27a8",
    "papermill": {
     "duration": 0.070129,
     "end_time": "2021-08-31T05:53:01.714731",
     "exception": false,
     "start_time": "2021-08-31T05:53:01.644602",
     "status": "completed"
    },
    "tags": []
   },
   "source": [
    "**1. Tenure:**  After looking at the below histogram we can see that a lot of customers have been with the telecom company for just a month, while quite a many are there for about 72 months. This could be potentially because different customers have different contracts. Thus based on the contract they are into it could be more/less easier for the customers to stay/leave the telecom company."
   ]
  },
  {
   "cell_type": "code",
   "execution_count": 15,
   "id": "593147e4",
   "metadata": {
    "_uuid": "2b1dca3917424690fe006b38b03b46ebf1e751d4",
    "execution": {
     "iopub.execute_input": "2021-08-31T05:53:01.863263Z",
     "iopub.status.busy": "2021-08-31T05:53:01.862356Z",
     "iopub.status.idle": "2021-08-31T05:53:02.388326Z",
     "shell.execute_reply": "2021-08-31T05:53:02.388853Z",
     "shell.execute_reply.started": "2021-08-31T05:51:52.661672Z"
    },
    "papermill": {
     "duration": 0.60547,
     "end_time": "2021-08-31T05:53:02.389070",
     "exception": false,
     "start_time": "2021-08-31T05:53:01.783600",
     "status": "completed"
    },
    "tags": []
   },
   "outputs": [
    {
     "data": {
      "text/plain": [
       "Text(0.5, 1.0, '# of Customers by their tenure')"
      ]
     },
     "execution_count": 15,
     "metadata": {},
     "output_type": "execute_result"
    },
    {
     "data": {
      "image/png": "[encoded data removed]",
      "text/plain": [
       "<Figure size 432x288 with 1 Axes>"
      ]
     },
     "metadata": {
      "needs_background": "light"
     },
     "output_type": "display_data"
    }
   ],
   "source": [
    "ax = sns.distplot(telecom_cus['tenure'], hist=True, kde=False, \n",
    "             bins=int(180/5), color = 'darkblue', \n",
    "             hist_kws={'edgecolor':'black'},\n",
    "             kde_kws={'linewidth': 4})\n",
    "ax.set_ylabel('# of Customers')\n",
    "ax.set_xlabel('Tenure (months)')\n",
    "ax.set_title('# of Customers by their tenure')"
   ]
  },
  {
   "cell_type": "markdown",
   "id": "d1216916",
   "metadata": {
    "_uuid": "ce5fccc67da0ea51ed1bf9a3451d9aeedfb9cd77",
    "papermill": {
     "duration": 0.075884,
     "end_time": "2021-08-31T05:53:02.537231",
     "exception": false,
     "start_time": "2021-08-31T05:53:02.461347",
     "status": "completed"
    },
    "tags": []
   },
   "source": [
    "**2. Contracts:** To understand the above graph, lets first look at the # of customers by different contracts. "
   ]
  },
  {
   "cell_type": "code",
   "execution_count": 16,
   "id": "42feb659",
   "metadata": {
    "_uuid": "b4589d9d041360eb2c1f33bafb61631fa3b1a29e",
    "execution": {
     "iopub.execute_input": "2021-08-31T05:53:02.714320Z",
     "iopub.status.busy": "2021-08-31T05:53:02.712045Z",
     "iopub.status.idle": "2021-08-31T05:53:02.893581Z",
     "shell.execute_reply": "2021-08-31T05:53:02.892975Z",
     "shell.execute_reply.started": "2021-08-31T05:51:53.105380Z"
    },
    "papermill": {
     "duration": 0.283441,
     "end_time": "2021-08-31T05:53:02.893741",
     "exception": false,
     "start_time": "2021-08-31T05:53:02.610300",
     "status": "completed"
    },
    "tags": []
   },
   "outputs": [
    {
     "data": {
      "text/plain": [
       "Text(0.5, 1.0, '# of Customers by Contract Type')"
      ]
     },
     "execution_count": 16,
     "metadata": {},
     "output_type": "execute_result"
    },
    {
     "data": {
      "image/png": "[encoded data removed]",
      "text/plain": [
       "<Figure size 432x288 with 1 Axes>"
      ]
     },
     "metadata": {
      "needs_background": "light"
     },
     "output_type": "display_data"
    }
   ],
   "source": [
    "ax = telecom_cus['Contract'].value_counts().plot(kind = 'bar',rot = 0, width = 0.3)\n",
    "ax.set_ylabel('# of Customers')\n",
    "ax.set_title('# of Customers by Contract Type')"
   ]
  },
  {
   "cell_type": "markdown",
   "id": "4bcb2314",
   "metadata": {
    "_uuid": "0acd43e2b09988ba4d5c0de03cfab1c8a7d684a0",
    "papermill": {
     "duration": 0.0743,
     "end_time": "2021-08-31T05:53:03.042999",
     "exception": false,
     "start_time": "2021-08-31T05:53:02.968699",
     "status": "completed"
    },
    "tags": []
   },
   "source": [
    "As we can see from this graph most of the customers are in the month to month contract. While there are equal number of customers in the 1 year and 2 year contracts.\n",
    "\n"
   ]
  },
  {
   "cell_type": "markdown",
   "id": "47f8007c",
   "metadata": {
    "_uuid": "cc6cac55a5511342b33fed0feaf3b9624788fd5a",
    "papermill": {
     "duration": 0.07209,
     "end_time": "2021-08-31T05:53:03.189538",
     "exception": false,
     "start_time": "2021-08-31T05:53:03.117448",
     "status": "completed"
    },
    "tags": []
   },
   "source": [
    "Below we will understand the tenure of customers based on their contract type."
   ]
  },
  {
   "cell_type": "code",
   "execution_count": 17,
   "id": "9fe12965",
   "metadata": {
    "_uuid": "1a616c81b2d4153d3470010a90f03fa25767a7ed",
    "execution": {
     "iopub.execute_input": "2021-08-31T05:53:03.352896Z",
     "iopub.status.busy": "2021-08-31T05:53:03.351689Z",
     "iopub.status.idle": "2021-08-31T05:53:04.311265Z",
     "shell.execute_reply": "2021-08-31T05:53:04.311844Z",
     "shell.execute_reply.started": "2021-08-31T05:51:53.287421Z"
    },
    "papermill": {
     "duration": 1.049229,
     "end_time": "2021-08-31T05:53:04.312078",
     "exception": false,
     "start_time": "2021-08-31T05:53:03.262849",
     "status": "completed"
    },
    "tags": []
   },
   "outputs": [
    {
     "data": {
      "text/plain": [
       "Text(0.5, 1.0, 'Two Year Contract')"
      ]
     },
     "execution_count": 17,
     "metadata": {},
     "output_type": "execute_result"
    },
    {
     "data": {
      "image/png": "[encoded data removed]",
      "text/plain": [
       "<Figure size 1440x432 with 3 Axes>"
      ]
     },
     "metadata": {
      "needs_background": "light"
     },
     "output_type": "display_data"
    }
   ],
   "source": [
    "fig, (ax1,ax2,ax3) = plt.subplots(nrows=1, ncols=3, sharey = True, figsize = (20,6))\n",
    "\n",
    "ax = sns.distplot(telecom_cus[telecom_cus['Contract']=='Month-to-month']['tenure'],\n",
    "                   hist=True, kde=False,\n",
    "                   bins=int(180/5), color = 'turquoise',\n",
    "                   hist_kws={'edgecolor':'black'},\n",
    "                   kde_kws={'linewidth': 4},\n",
    "                 ax=ax1)\n",
    "ax.set_ylabel('# of Customers')\n",
    "ax.set_xlabel('Tenure (months)')\n",
    "ax.set_title('Month to Month Contract')\n",
    "\n",
    "ax = sns.distplot(telecom_cus[telecom_cus['Contract']=='One year']['tenure'],\n",
    "                   hist=True, kde=False,\n",
    "                   bins=int(180/5), color = 'steelblue',\n",
    "                   hist_kws={'edgecolor':'black'},\n",
    "                   kde_kws={'linewidth': 4},\n",
    "                 ax=ax2)\n",
    "ax.set_xlabel('Tenure (months)',size = 14)\n",
    "ax.set_title('One Year Contract',size = 14)\n",
    "\n",
    "ax = sns.distplot(telecom_cus[telecom_cus['Contract']=='Two year']['tenure'],\n",
    "                   hist=True, kde=False,\n",
    "                   bins=int(180/5), color = 'darkblue',\n",
    "                   hist_kws={'edgecolor':'black'},\n",
    "                   kde_kws={'linewidth': 4},\n",
    "                 ax=ax3)\n",
    "\n",
    "ax.set_xlabel('Tenure (months)')\n",
    "ax.set_title('Two Year Contract')"
   ]
  },
  {
   "cell_type": "markdown",
   "id": "7ae273f9",
   "metadata": {
    "_uuid": "ee2411d340eb9c03cd45cbaafd391bf60f61653c",
    "papermill": {
     "duration": 0.074187,
     "end_time": "2021-08-31T05:53:04.464040",
     "exception": false,
     "start_time": "2021-08-31T05:53:04.389853",
     "status": "completed"
    },
    "tags": []
   },
   "source": [
    "Interestingly most of the monthly contracts last for 1-2 months, while the 2 year contracts tend to last for about 70 months. This shows that the customers taking a longer contract are more loyal to the company and tend to stay with it for a longer period of time. \n",
    "\n",
    "This is also what we saw in the earlier chart on correlation with the churn rate. "
   ]
  },
  {
   "cell_type": "markdown",
   "id": "77026ec5",
   "metadata": {
    "_uuid": "7f912f0a732097de7c35920ea25ccf14cd05cc13",
    "papermill": {
     "duration": 0.073254,
     "end_time": "2021-08-31T05:53:04.611214",
     "exception": false,
     "start_time": "2021-08-31T05:53:04.537960",
     "status": "completed"
    },
    "tags": []
   },
   "source": [
    "###   Let us now look at the distribution of various services used by customers"
   ]
  },
  {
   "cell_type": "code",
   "execution_count": 18,
   "id": "3cae50b7",
   "metadata": {
    "_uuid": "961cdb51ddd3ccb110555b359394d823c33df66b",
    "execution": {
     "iopub.execute_input": "2021-08-31T05:53:04.758535Z",
     "iopub.status.busy": "2021-08-31T05:53:04.757788Z",
     "iopub.status.idle": "2021-08-31T05:53:04.764712Z",
     "shell.execute_reply": "2021-08-31T05:53:04.764159Z",
     "shell.execute_reply.started": "2021-08-31T05:51:54.159886Z"
    },
    "papermill": {
     "duration": 0.082162,
     "end_time": "2021-08-31T05:53:04.764865",
     "exception": false,
     "start_time": "2021-08-31T05:53:04.682703",
     "status": "completed"
    },
    "tags": []
   },
   "outputs": [
    {
     "data": {
      "text/plain": [
       "array(['customerID', 'gender', 'SeniorCitizen', 'Partner', 'Dependents',\n",
       "       'tenure', 'PhoneService', 'MultipleLines', 'InternetService',\n",
       "       'OnlineSecurity', 'OnlineBackup', 'DeviceProtection',\n",
       "       'TechSupport', 'StreamingTV', 'StreamingMovies', 'Contract',\n",
       "       'PaperlessBilling', 'PaymentMethod', 'MonthlyCharges',\n",
       "       'TotalCharges', 'Churn'], dtype=object)"
      ]
     },
     "execution_count": 18,
     "metadata": {},
     "output_type": "execute_result"
    }
   ],
   "source": [
    "telecom_cus.columns.values"
   ]
  },
  {
   "cell_type": "code",
   "execution_count": 19,
   "id": "55bb38da",
   "metadata": {
    "_uuid": "8503e680b82a2492bfed8f29dd2d13dafb7ed661",
    "execution": {
     "iopub.execute_input": "2021-08-31T05:53:05.015701Z",
     "iopub.status.busy": "2021-08-31T05:53:04.952270Z",
     "iopub.status.idle": "2021-08-31T05:53:06.342103Z",
     "shell.execute_reply": "2021-08-31T05:53:06.341185Z",
     "shell.execute_reply.started": "2021-08-31T05:51:54.168246Z"
    },
    "papermill": {
     "duration": 1.501893,
     "end_time": "2021-08-31T05:53:06.342296",
     "exception": false,
     "start_time": "2021-08-31T05:53:04.840403",
     "status": "completed"
    },
    "tags": []
   },
   "outputs": [
    {
     "data": {
      "image/png": "[encoded data removed]",
      "text/plain": [
       "<Figure size 1080x864 with 9 Axes>"
      ]
     },
     "metadata": {
      "needs_background": "light"
     },
     "output_type": "display_data"
    }
   ],
   "source": [
    "services = ['PhoneService','MultipleLines','InternetService','OnlineSecurity',\n",
    "           'OnlineBackup','DeviceProtection','TechSupport','StreamingTV','StreamingMovies']\n",
    "\n",
    "fig, axes = plt.subplots(nrows = 3,ncols = 3,figsize = (15,12))\n",
    "for i, item in enumerate(services):\n",
    "    if i < 3:\n",
    "        ax = telecom_cus[item].value_counts().plot(kind = 'bar',ax=axes[i,0],rot = 0)\n",
    "        \n",
    "    elif i >=3 and i < 6:\n",
    "        ax = telecom_cus[item].value_counts().plot(kind = 'bar',ax=axes[i-3,1],rot = 0)\n",
    "        \n",
    "    elif i < 9:\n",
    "        ax = telecom_cus[item].value_counts().plot(kind = 'bar',ax=axes[i-6,2],rot = 0)\n",
    "    ax.set_title(item)"
   ]
  },
  {
   "cell_type": "markdown",
   "id": "0469c2a3",
   "metadata": {
    "_uuid": "fec8539f6336ca456276f67b6ffd72b8ceb3790e",
    "papermill": {
     "duration": 0.086363,
     "end_time": "2021-08-31T05:53:06.515118",
     "exception": false,
     "start_time": "2021-08-31T05:53:06.428755",
     "status": "completed"
    },
    "tags": []
   },
   "source": [
    "###  Now let's take a quick look at the relation between monthly and total charges"
   ]
  },
  {
   "cell_type": "markdown",
   "id": "a3cf2d24",
   "metadata": {
    "_uuid": "933ff48d2ebc4c4828a2c998b6f0428767475161",
    "papermill": {
     "duration": 0.085232,
     "end_time": "2021-08-31T05:53:06.688676",
     "exception": false,
     "start_time": "2021-08-31T05:53:06.603444",
     "status": "completed"
    },
    "tags": []
   },
   "source": [
    "We will observe that the total charges increases as the monthly bill for a customer increases."
   ]
  },
  {
   "cell_type": "code",
   "execution_count": 20,
   "id": "df26dd0f",
   "metadata": {
    "_uuid": "4601f238e8fe13cbb815be90718086928a54041b",
    "execution": {
     "iopub.execute_input": "2021-08-31T05:53:06.888312Z",
     "iopub.status.busy": "2021-08-31T05:53:06.880218Z",
     "iopub.status.idle": "2021-08-31T05:53:07.154542Z",
     "shell.execute_reply": "2021-08-31T05:53:07.153838Z",
     "shell.execute_reply.started": "2021-08-31T05:51:55.426581Z"
    },
    "papermill": {
     "duration": 0.382609,
     "end_time": "2021-08-31T05:53:07.154713",
     "exception": false,
     "start_time": "2021-08-31T05:53:06.772104",
     "status": "completed"
    },
    "tags": []
   },
   "outputs": [
    {
     "data": {
      "text/plain": [
       "<AxesSubplot:xlabel='MonthlyCharges', ylabel='TotalCharges'>"
      ]
     },
     "execution_count": 20,
     "metadata": {},
     "output_type": "execute_result"
    },
    {
     "data": {
      "image/png": "[encoded data removed]",
      "text/plain": [
       "<Figure size 432x288 with 1 Axes>"
      ]
     },
     "metadata": {
      "needs_background": "light"
     },
     "output_type": "display_data"
    }
   ],
   "source": [
    "telecom_cus[['MonthlyCharges', 'TotalCharges']].plot.scatter(x = 'MonthlyCharges',\n",
    "                                                              y='TotalCharges', c='skyblue')"
   ]
  },
  {
   "cell_type": "markdown",
   "id": "729a5063",
   "metadata": {
    "_uuid": "ad813734756bd9cf1d298aee1d4063beef47738f",
    "papermill": {
     "duration": 0.080174,
     "end_time": "2021-08-31T05:53:07.313792",
     "exception": false,
     "start_time": "2021-08-31T05:53:07.233618",
     "status": "completed"
    },
    "tags": []
   },
   "source": [
    "###  Finally, let's take a look at out predictor variable (Churn) and understand its interaction with other important variables as was found out in the correlation plot. "
   ]
  },
  {
   "cell_type": "markdown",
   "id": "b92421d4",
   "metadata": {
    "_uuid": "67dea305467069a89007dd58a5906195ea0627d0",
    "papermill": {
     "duration": 0.079997,
     "end_time": "2021-08-31T05:53:07.474989",
     "exception": false,
     "start_time": "2021-08-31T05:53:07.394992",
     "status": "completed"
    },
    "tags": []
   },
   "source": [
    "1. Lets first look at the churn rate in our data"
   ]
  },
  {
   "cell_type": "code",
   "execution_count": 21,
   "id": "a6a67fba",
   "metadata": {
    "_uuid": "4bef28080b360cbad4944abb2d4f75a440c525e9",
    "execution": {
     "iopub.execute_input": "2021-08-31T05:53:07.698422Z",
     "iopub.status.busy": "2021-08-31T05:53:07.667466Z",
     "iopub.status.idle": "2021-08-31T05:53:07.834119Z",
     "shell.execute_reply": "2021-08-31T05:53:07.833430Z",
     "shell.execute_reply.started": "2021-08-31T05:51:55.674226Z"
    },
    "papermill": {
     "duration": 0.27933,
     "end_time": "2021-08-31T05:53:07.834295",
     "exception": false,
     "start_time": "2021-08-31T05:53:07.554965",
     "status": "completed"
    },
    "tags": []
   },
   "outputs": [
    {
     "data": {
      "image/png": "[encoded data removed]",
      "text/plain": [
       "<Figure size 576x432 with 1 Axes>"
      ]
     },
     "metadata": {
      "needs_background": "light"
     },
     "output_type": "display_data"
    }
   ],
   "source": [
    "colors = ['#4D3425','#E4512B']\n",
    "ax = (telecom_cus['Churn'].value_counts()*100.0 /len(telecom_cus)).plot(kind='bar',\n",
    "                                                                           stacked = True,\n",
    "                                                                          rot = 0,\n",
    "                                                                          color = colors,\n",
    "                                                                         figsize = (8,6))\n",
    "ax.yaxis.set_major_formatter(mtick.PercentFormatter())\n",
    "ax.set_ylabel('% Customers',size = 14)\n",
    "ax.set_xlabel('Churn',size = 14)\n",
    "ax.set_title('Churn Rate', size = 14)\n",
    "\n",
    "# create a list to collect the plt.patches data\n",
    "totals = []\n",
    "\n",
    "# find the values and append to list\n",
    "for i in ax.patches:\n",
    "    totals.append(i.get_width())\n",
    "\n",
    "# set individual bar lables using above list\n",
    "total = sum(totals)\n",
    "\n",
    "for i in ax.patches:\n",
    "    # get_width pulls left or right; get_y pushes up or down\n",
    "    ax.text(i.get_x()+.15, i.get_height()-4.0 , \n",
    "            str(round((i.get_height()/total), 1))+'%',\n",
    "            color='white',\n",
    "           weight = 'bold',\n",
    "           size = 14)"
   ]
  },
  {
   "cell_type": "markdown",
   "id": "bf1299c0",
   "metadata": {
    "_uuid": "432a25bf5cd664b021617844ba945fce5c6f341b",
    "papermill": {
     "duration": 0.08128,
     "end_time": "2021-08-31T05:53:07.997917",
     "exception": false,
     "start_time": "2021-08-31T05:53:07.916637",
     "status": "completed"
    },
    "tags": []
   },
   "source": [
    "In our data, 74% of the customers do not churn. Clearly the data is skewed as we would expect a large majority of the customers to not to churn. "
   ]
  },
  {
   "cell_type": "markdown",
   "id": "c4c87791",
   "metadata": {
    "_uuid": "a9a182eb5bf7832d84072519b01f4ebc741da8a9",
    "papermill": {
     "duration": 0.082028,
     "end_time": "2021-08-31T05:53:08.162861",
     "exception": false,
     "start_time": "2021-08-31T05:53:08.080833",
     "status": "completed"
    },
    "tags": []
   },
   "source": [
    "2. Lets now explore the churn rate by tenure, seniority, contract type, monthly charges and total charges to see how it varies by these variables."
   ]
  },
  {
   "cell_type": "markdown",
   "id": "03b8dbc5",
   "metadata": {
    "_uuid": "d6be674fd79a62315fe71699fb1164f31ed1446a",
    "papermill": {
     "duration": 0.07802,
     "end_time": "2021-08-31T05:53:08.320426",
     "exception": false,
     "start_time": "2021-08-31T05:53:08.242406",
     "status": "completed"
    },
    "tags": []
   },
   "source": [
    "**i.) Churn vs Tenure**: As we can see form the below plot, the customers who do not churn, they tend to stay for a longer tenure with the telecom company. "
   ]
  },
  {
   "cell_type": "code",
   "execution_count": 22,
   "id": "7f9b250f",
   "metadata": {
    "_uuid": "e7643a6a6dac23d668aa512b3a922d68ed91abc4",
    "execution": {
     "iopub.execute_input": "2021-08-31T05:53:08.489468Z",
     "iopub.status.busy": "2021-08-31T05:53:08.488706Z",
     "iopub.status.idle": "2021-08-31T05:53:08.672901Z",
     "shell.execute_reply": "2021-08-31T05:53:08.672314Z",
     "shell.execute_reply.started": "2021-08-31T05:51:55.856558Z"
    },
    "papermill": {
     "duration": 0.270957,
     "end_time": "2021-08-31T05:53:08.673070",
     "exception": false,
     "start_time": "2021-08-31T05:53:08.402113",
     "status": "completed"
    },
    "tags": []
   },
   "outputs": [
    {
     "data": {
      "text/plain": [
       "<AxesSubplot:xlabel='Churn', ylabel='tenure'>"
      ]
     },
     "execution_count": 22,
     "metadata": {},
     "output_type": "execute_result"
    },
    {
     "data": {
      "image/png": "[encoded data removed]",
      "text/plain": [
       "<Figure size 432x288 with 1 Axes>"
      ]
     },
     "metadata": {
      "needs_background": "light"
     },
     "output_type": "display_data"
    }
   ],
   "source": [
    "sns.boxplot(x = telecom_cus.Churn, y = telecom_cus.tenure)"
   ]
  },
  {
   "cell_type": "markdown",
   "id": "c3df4fbe",
   "metadata": {
    "_uuid": "6ef23d7c4fddda89f7ec7c9345851ccd4bcb5089",
    "papermill": {
     "duration": 0.07903,
     "end_time": "2021-08-31T05:53:08.830425",
     "exception": false,
     "start_time": "2021-08-31T05:53:08.751395",
     "status": "completed"
    },
    "tags": []
   },
   "source": [
    "**ii.) Churn by Contract Type**: Similar to what we saw in the correlation plot, the customers who have a month to month contract have a very high churn rate."
   ]
  },
  {
   "cell_type": "code",
   "execution_count": 23,
   "id": "4800de65",
   "metadata": {
    "_uuid": "7ddbc6ac84fe48dcea91ce2a60a6103e2a10ad9f",
    "execution": {
     "iopub.execute_input": "2021-08-31T05:53:09.005448Z",
     "iopub.status.busy": "2021-08-31T05:53:09.002969Z",
     "iopub.status.idle": "2021-08-31T05:53:09.285064Z",
     "shell.execute_reply": "2021-08-31T05:53:09.284544Z",
     "shell.execute_reply.started": "2021-08-31T05:51:56.042891Z"
    },
    "papermill": {
     "duration": 0.374201,
     "end_time": "2021-08-31T05:53:09.285262",
     "exception": false,
     "start_time": "2021-08-31T05:53:08.911061",
     "status": "completed"
    },
    "scrolled": true,
    "tags": []
   },
   "outputs": [
    {
     "data": {
      "image/png": "[encoded data removed]",
      "text/plain": [
       "<Figure size 720x432 with 1 Axes>"
      ]
     },
     "metadata": {
      "needs_background": "light"
     },
     "output_type": "display_data"
    }
   ],
   "source": [
    "colors = ['#4D3425','#E4512B']\n",
    "contract_churn = telecom_cus.groupby(['Contract','Churn']).size().unstack()\n",
    "\n",
    "ax = (contract_churn.T*100.0 / contract_churn.T.sum()).T.plot(kind='bar',\n",
    "                                                                width = 0.3,\n",
    "                                                                stacked = True,\n",
    "                                                                rot = 0, \n",
    "                                                                figsize = (10,6),\n",
    "                                                                color = colors)\n",
    "ax.yaxis.set_major_formatter(mtick.PercentFormatter())\n",
    "ax.legend(loc='best',prop={'size':14},title = 'Churn')\n",
    "ax.set_ylabel('% Customers',size = 14)\n",
    "ax.set_title('Churn by Contract Type',size = 14)\n",
    "\n",
    "# Code to add the data labels on the stacked bar chart\n",
    "for p in ax.patches:\n",
    "    width, height = p.get_width(), p.get_height()\n",
    "    x, y = p.get_xy() \n",
    "    ax.annotate('{:.0f}%'.format(height), (p.get_x()+.25*width, p.get_y()+.4*height),\n",
    "                color = 'white',\n",
    "               weight = 'bold',\n",
    "               size = 14)"
   ]
  },
  {
   "cell_type": "markdown",
   "id": "dd8bf91f",
   "metadata": {
    "_uuid": "d2975c96bb5c2ea1bcdf8c718aef1f3e8226a64c",
    "papermill": {
     "duration": 0.082914,
     "end_time": "2021-08-31T05:53:09.450461",
     "exception": false,
     "start_time": "2021-08-31T05:53:09.367547",
     "status": "completed"
    },
    "tags": []
   },
   "source": [
    "**iii.) Churn by Seniority**: Senior Citizens have almost double the churn rate than younger population."
   ]
  },
  {
   "cell_type": "code",
   "execution_count": 24,
   "id": "beed60c7",
   "metadata": {
    "_uuid": "169bc4d753a4bb1368ffe02768481e35366d75e1",
    "execution": {
     "iopub.execute_input": "2021-08-31T05:53:09.631391Z",
     "iopub.status.busy": "2021-08-31T05:53:09.630643Z",
     "iopub.status.idle": "2021-08-31T05:53:10.052992Z",
     "shell.execute_reply": "2021-08-31T05:53:10.052285Z",
     "shell.execute_reply.started": "2021-08-31T05:51:56.308541Z"
    },
    "papermill": {
     "duration": 0.518603,
     "end_time": "2021-08-31T05:53:10.053171",
     "exception": false,
     "start_time": "2021-08-31T05:53:09.534568",
     "status": "completed"
    },
    "tags": []
   },
   "outputs": [
    {
     "data": {
      "image/png": "[encoded data removed]",
      "text/plain": [
       "<Figure size 576x432 with 1 Axes>"
      ]
     },
     "metadata": {
      "needs_background": "light"
     },
     "output_type": "display_data"
    }
   ],
   "source": [
    "colors = ['#4D3425','#E4512B']\n",
    "seniority_churn = telecom_cus.groupby(['SeniorCitizen','Churn']).size().unstack()\n",
    "\n",
    "ax = (seniority_churn.T*100.0 / seniority_churn.T.sum()).T.plot(kind='bar',\n",
    "                                                                width = 0.2,\n",
    "                                                                stacked = True,\n",
    "                                                                rot = 0, \n",
    "                                                                figsize = (8,6),\n",
    "                                                                color = colors)\n",
    "ax.yaxis.set_major_formatter(mtick.PercentFormatter())\n",
    "ax.legend(loc='center',prop={'size':14},title = 'Churn')\n",
    "ax.set_ylabel('% Customers')\n",
    "ax.set_title('Churn by Seniority Level',size = 14)\n",
    "\n",
    "# adding the data labels on the stacked bar chart\n",
    "for p in ax.patches:\n",
    "    width, height = p.get_width(), p.get_height()\n",
    "    x, y = p.get_xy() \n",
    "    ax.annotate('{:.0f}%'.format(height), (p.get_x()+.25*width, p.get_y()+.4*height),\n",
    "                color = 'white',\n",
    "               weight = 'bold',size =14)"
   ]
  },
  {
   "cell_type": "markdown",
   "id": "0d1876ea",
   "metadata": {
    "_uuid": "bd0851a067af76d101f72fc4eb2f95bea547eda3",
    "papermill": {
     "duration": 0.082608,
     "end_time": "2021-08-31T05:53:10.220033",
     "exception": false,
     "start_time": "2021-08-31T05:53:10.137425",
     "status": "completed"
    },
    "tags": []
   },
   "source": [
    "**iv.) Churn by Monthly Charges**: Higher % of customers churn when the monthly charges are high."
   ]
  },
  {
   "cell_type": "code",
   "execution_count": 25,
   "id": "cdac1a8b",
   "metadata": {
    "_uuid": "fa0b5fc6c8ee5f284c0f8515c297d6765cc2b807",
    "execution": {
     "iopub.execute_input": "2021-08-31T05:53:10.404291Z",
     "iopub.status.busy": "2021-08-31T05:53:10.402118Z",
     "iopub.status.idle": "2021-08-31T05:53:10.965790Z",
     "shell.execute_reply": "2021-08-31T05:53:10.965037Z",
     "shell.execute_reply.started": "2021-08-31T05:51:56.661895Z"
    },
    "papermill": {
     "duration": 0.662793,
     "end_time": "2021-08-31T05:53:10.965946",
     "exception": false,
     "start_time": "2021-08-31T05:53:10.303153",
     "status": "completed"
    },
    "tags": []
   },
   "outputs": [
    {
     "data": {
      "text/plain": [
       "Text(0.5, 1.0, 'Distribution of monthly charges by churn')"
      ]
     },
     "execution_count": 25,
     "metadata": {},
     "output_type": "execute_result"
    },
    {
     "data": {
      "image/png": "[encoded data removed]",
      "text/plain": [
       "<Figure size 432x288 with 1 Axes>"
      ]
     },
     "metadata": {
      "needs_background": "light"
     },
     "output_type": "display_data"
    }
   ],
   "source": [
    "ax = sns.kdeplot(telecom_cus.MonthlyCharges[(telecom_cus[\"Churn\"] == 'No') ],\n",
    "                color=\"cyan\", shade = True)\n",
    "ax = sns.kdeplot(telecom_cus.MonthlyCharges[(telecom_cus[\"Churn\"] == 'Yes') ],\n",
    "                ax =ax, color=\"orange\", shade= True)\n",
    "ax.legend([\"Not Churn\",\"Churn\"],loc='upper right')\n",
    "ax.set_ylabel('Density')\n",
    "ax.set_xlabel('Monthly Charges')\n",
    "ax.set_title('Distribution of monthly charges by churn')"
   ]
  },
  {
   "cell_type": "markdown",
   "id": "120e263d",
   "metadata": {
    "_uuid": "f6cc05bc4205538c60a69ad00ce742118a21786d",
    "papermill": {
     "duration": 0.083524,
     "end_time": "2021-08-31T05:53:11.131548",
     "exception": false,
     "start_time": "2021-08-31T05:53:11.048024",
     "status": "completed"
    },
    "tags": []
   },
   "source": [
    "**v.) Churn by Total Charges**: It seems that there is higer churn when the total charges are lower."
   ]
  },
  {
   "cell_type": "code",
   "execution_count": 26,
   "id": "dda1756c",
   "metadata": {
    "_uuid": "73b499447ad1d100aae396cb5b7d16533f153219",
    "execution": {
     "iopub.execute_input": "2021-08-31T05:53:11.311594Z",
     "iopub.status.busy": "2021-08-31T05:53:11.310821Z",
     "iopub.status.idle": "2021-08-31T05:53:11.615979Z",
     "shell.execute_reply": "2021-08-31T05:53:11.615433Z",
     "shell.execute_reply.started": "2021-08-31T05:51:57.153813Z"
    },
    "papermill": {
     "duration": 0.400627,
     "end_time": "2021-08-31T05:53:11.616169",
     "exception": false,
     "start_time": "2021-08-31T05:53:11.215542",
     "status": "completed"
    },
    "tags": []
   },
   "outputs": [
    {
     "data": {
      "text/plain": [
       "Text(0.5, 1.0, 'Distribution of total charges by churn')"
      ]
     },
     "execution_count": 26,
     "metadata": {},
     "output_type": "execute_result"
    },
    {
     "data": {
      "image/png": "[encoded data removed]",
      "text/plain": [
       "<Figure size 432x288 with 1 Axes>"
      ]
     },
     "metadata": {
      "needs_background": "light"
     },
     "output_type": "display_data"
    }
   ],
   "source": [
    "ax = sns.kdeplot(telecom_cus.TotalCharges[(telecom_cus[\"Churn\"] == 'No') ],\n",
    "                color=\"cyan\", shade = True)\n",
    "ax = sns.kdeplot(telecom_cus.TotalCharges[(telecom_cus[\"Churn\"] == 'Yes') ],\n",
    "                ax =ax, color=\"orange\", shade= True)\n",
    "ax.legend([\"Not Churn\",\"Churn\"],loc='upper right')\n",
    "ax.set_ylabel('Density')\n",
    "ax.set_xlabel('Total Charges')\n",
    "ax.set_title('Distribution of total charges by churn')"
   ]
  },
  {
   "cell_type": "markdown",
   "id": "30bdc105",
   "metadata": {
    "_uuid": "a253e14489981fb89ac3a36849432549f442695d",
    "papermill": {
     "duration": 0.084108,
     "end_time": "2021-08-31T05:53:11.784624",
     "exception": false,
     "start_time": "2021-08-31T05:53:11.700516",
     "status": "completed"
    },
    "tags": []
   },
   "source": [
    "## After going through the above EDA we will develop some predictive models and compare them."
   ]
  },
  {
   "cell_type": "markdown",
   "id": "0c8a7eee",
   "metadata": {
    "_uuid": "083086278a1073887b282a50a6399b1985224c1f",
    "papermill": {
     "duration": 0.083952,
     "end_time": "2021-08-31T05:53:11.952745",
     "exception": false,
     "start_time": "2021-08-31T05:53:11.868793",
     "status": "completed"
    },
    "tags": []
   },
   "source": [
    "### 1. Logistic Regression"
   ]
  },
  {
   "cell_type": "code",
   "execution_count": 27,
   "id": "364b8f29",
   "metadata": {
    "_uuid": "7d13d788abc4ee9268338ad0539e6f8098ae9fd4",
    "execution": {
     "iopub.execute_input": "2021-08-31T05:53:12.135634Z",
     "iopub.status.busy": "2021-08-31T05:53:12.134400Z",
     "iopub.status.idle": "2021-08-31T05:53:12.325715Z",
     "shell.execute_reply": "2021-08-31T05:53:12.325096Z",
     "shell.execute_reply.started": "2021-08-31T05:51:57.467424Z"
    },
    "papermill": {
     "duration": 0.285671,
     "end_time": "2021-08-31T05:53:12.325891",
     "exception": false,
     "start_time": "2021-08-31T05:53:12.040220",
     "status": "completed"
    },
    "tags": []
   },
   "outputs": [],
   "source": [
    "# We will use the data frame where we had created dummy variables\n",
    "y = df_dummies['Churn'].values\n",
    "X = df_dummies.drop(columns = ['Churn'])\n",
    "\n",
    "# Scaling all the variables to a range of 0 to 1\n",
    "from sklearn.preprocessing import MinMaxScaler\n",
    "features = X.columns.values\n",
    "scaler = MinMaxScaler(feature_range = (0,1))\n",
    "scaler.fit(X)\n",
    "X = pd.DataFrame(scaler.transform(X))\n",
    "X.columns = features"
   ]
  },
  {
   "cell_type": "markdown",
   "id": "952ed7c5",
   "metadata": {
    "_uuid": "84cd7e26d0c3e46555b53fadefd203b4adaa0da9",
    "papermill": {
     "duration": 0.085111,
     "end_time": "2021-08-31T05:53:12.493798",
     "exception": false,
     "start_time": "2021-08-31T05:53:12.408687",
     "status": "completed"
    },
    "tags": []
   },
   "source": [
    "It is important to scale the variables in logistic regression so that all of them are within a range of 0 to 1. This helped me improve the accuracy from 79.7% to 80.7%. Further, you will notice below that the importance of variables is also aligned with what we are seeing in Random Forest algorithm and the EDA we conducted above."
   ]
  },
  {
   "cell_type": "code",
   "execution_count": 28,
   "id": "3c66dd8a",
   "metadata": {
    "_uuid": "32367729f8ea962bb73cae8b88b6310dd811b6de",
    "execution": {
     "iopub.execute_input": "2021-08-31T05:53:12.668776Z",
     "iopub.status.busy": "2021-08-31T05:53:12.667963Z",
     "iopub.status.idle": "2021-08-31T05:53:12.738782Z",
     "shell.execute_reply": "2021-08-31T05:53:12.738216Z",
     "shell.execute_reply.started": "2021-08-31T05:51:57.653678Z"
    },
    "papermill": {
     "duration": 0.159421,
     "end_time": "2021-08-31T05:53:12.738951",
     "exception": false,
     "start_time": "2021-08-31T05:53:12.579530",
     "status": "completed"
    },
    "tags": []
   },
   "outputs": [],
   "source": [
    "# Create Train & Test Data\n",
    "from sklearn.model_selection import train_test_split\n",
    "X_train, X_test, y_train, y_test = train_test_split(X, y, test_size=0.3, random_state=101)"
   ]
  },
  {
   "cell_type": "code",
   "execution_count": 29,
   "id": "1efd67f6",
   "metadata": {
    "_uuid": "998977bc5997ee4f9b5c45f3997523339ddc3943",
    "execution": {
     "iopub.execute_input": "2021-08-31T05:53:12.919923Z",
     "iopub.status.busy": "2021-08-31T05:53:12.919046Z",
     "iopub.status.idle": "2021-08-31T05:53:13.208901Z",
     "shell.execute_reply": "2021-08-31T05:53:13.209552Z",
     "shell.execute_reply.started": "2021-08-31T05:51:57.720937Z"
    },
    "papermill": {
     "duration": 0.383782,
     "end_time": "2021-08-31T05:53:13.209764",
     "exception": false,
     "start_time": "2021-08-31T05:53:12.825982",
     "status": "completed"
    },
    "tags": []
   },
   "outputs": [],
   "source": [
    "# Running logistic regression model\n",
    "from sklearn.linear_model import LogisticRegression\n",
    "model = LogisticRegression()\n",
    "result = model.fit(X_train, y_train)"
   ]
  },
  {
   "cell_type": "code",
   "execution_count": 30,
   "id": "4e7f491b",
   "metadata": {
    "_uuid": "f7f3d7b6cad7e9754fc7480e004269000363ec29",
    "execution": {
     "iopub.execute_input": "2021-08-31T05:53:13.442094Z",
     "iopub.status.busy": "2021-08-31T05:53:13.440977Z",
     "iopub.status.idle": "2021-08-31T05:53:13.447955Z",
     "shell.execute_reply": "2021-08-31T05:53:13.447215Z",
     "shell.execute_reply.started": "2021-08-31T05:51:57.978485Z"
    },
    "papermill": {
     "duration": 0.101755,
     "end_time": "2021-08-31T05:53:13.448186",
     "exception": false,
     "start_time": "2021-08-31T05:53:13.346431",
     "status": "completed"
    },
    "tags": []
   },
   "outputs": [
    {
     "name": "stdout",
     "output_type": "stream",
     "text": [
      "0.8075829383886256\n"
     ]
    }
   ],
   "source": [
    "from sklearn import metrics\n",
    "prediction_test = model.predict(X_test)\n",
    "# Printing the prediction accuracy\n",
    "print (metrics.accuracy_score(y_test, prediction_test))"
   ]
  },
  {
   "cell_type": "code",
   "execution_count": 31,
   "id": "e5736e69",
   "metadata": {
    "_uuid": "ea39ca61c3af331a45ff320add59e1aefab7da65",
    "execution": {
     "iopub.execute_input": "2021-08-31T05:53:13.721563Z",
     "iopub.status.busy": "2021-08-31T05:53:13.712552Z",
     "iopub.status.idle": "2021-08-31T05:53:13.951342Z",
     "shell.execute_reply": "2021-08-31T05:53:13.950320Z",
     "shell.execute_reply.started": "2021-08-31T05:51:57.993174Z"
    },
    "papermill": {
     "duration": 0.366861,
     "end_time": "2021-08-31T05:53:13.951552",
     "exception": false,
     "start_time": "2021-08-31T05:53:13.584691",
     "status": "completed"
    },
    "tags": []
   },
   "outputs": [
    {
     "name": "stdout",
     "output_type": "stream",
     "text": [
      "AxesSubplot(0.125,0.125;0.775x0.755)\n"
     ]
    },
    {
     "data": {
      "image/png": "[encoded data removed]",
      "text/plain": [
       "<Figure size 432x288 with 1 Axes>"
      ]
     },
     "metadata": {
      "needs_background": "light"
     },
     "output_type": "display_data"
    }
   ],
   "source": [
    "# To get the weights of all the variables\n",
    "weights = pd.Series(model.coef_[0],\n",
    "                 index=X.columns.values)\n",
    "print (weights.sort_values(ascending = False)[:10].plot(kind='bar', color = 'pink'))\n"
   ]
  },
  {
   "cell_type": "code",
   "execution_count": 32,
   "id": "b891a583",
   "metadata": {
    "_uuid": "6aef934353dce495ea49e3ba48fe9ef29e7a53f0",
    "execution": {
     "iopub.execute_input": "2021-08-31T05:53:14.171185Z",
     "iopub.status.busy": "2021-08-31T05:53:14.155668Z",
     "iopub.status.idle": "2021-08-31T05:53:14.445113Z",
     "shell.execute_reply": "2021-08-31T05:53:14.444206Z",
     "shell.execute_reply.started": "2021-08-31T05:51:58.289973Z"
    },
    "papermill": {
     "duration": 0.405797,
     "end_time": "2021-08-31T05:53:14.445390",
     "exception": false,
     "start_time": "2021-08-31T05:53:14.039593",
     "status": "completed"
    },
    "tags": []
   },
   "outputs": [
    {
     "name": "stdout",
     "output_type": "stream",
     "text": [
      "AxesSubplot(0.125,0.125;0.775x0.755)\n"
     ]
    },
    {
     "data": {
      "image/png": "[encoded data removed]",
      "text/plain": [
       "<Figure size 432x288 with 1 Axes>"
      ]
     },
     "metadata": {
      "needs_background": "light"
     },
     "output_type": "display_data"
    }
   ],
   "source": [
    "print(weights.sort_values(ascending = False)[-10:].plot(kind='bar', color='green'))"
   ]
  },
  {
   "cell_type": "markdown",
   "id": "5f0655b7",
   "metadata": {
    "_uuid": "185b83162c70e65203bdc387d036f7d24ae8c129",
    "papermill": {
     "duration": 0.091725,
     "end_time": "2021-08-31T05:53:14.631732",
     "exception": false,
     "start_time": "2021-08-31T05:53:14.540007",
     "status": "completed"
    },
    "tags": []
   },
   "source": [
    "**Observations**\n",
    "\n",
    "We can see that some of the variables have a negative relation to our predicted variable (Churn), while some have positive relation. Negative relation means that likeliness of churn decreases with that variable. \n",
    "\n",
    "* As we saw in our EDA, having a 2 month contract reduces chances of churn. 2 month contract along with tenure have the most negative relation with Churn as predicted by logistic regressions\n",
    "* Having DSL internet service also reduces the proability of Churn\n",
    "* Lastly, total charges, monthly contracts, fibre optic internet services and seniority can lead to higher churn rates. This is interesting because although fibre optic services are faster, customers are  likely to churn because of it. I think we need to explore more to better understad why this is happening. \n",
    "\n"
   ]
  },
  {
   "cell_type": "markdown",
   "id": "846e788a",
   "metadata": {
    "_uuid": "d8ee107a6c58397a1f6f073032cde2c20c76fc15",
    "papermill": {
     "duration": 0.090139,
     "end_time": "2021-08-31T05:53:14.812510",
     "exception": false,
     "start_time": "2021-08-31T05:53:14.722371",
     "status": "completed"
    },
    "tags": []
   },
   "source": [
    "## 2. Random Forest"
   ]
  },
  {
   "cell_type": "markdown",
   "id": "2e20c6c3",
   "metadata": {},
   "source": [
    "We can also perform the accuracy prediction using **Random Forest** model."
   ]
  },
  {
   "cell_type": "code",
   "execution_count": 33,
   "id": "6b2689c4",
   "metadata": {
    "_uuid": "352d2332ff650ec1e22521c46790629295bcb1c7",
    "execution": {
     "iopub.execute_input": "2021-08-31T05:53:15.009330Z",
     "iopub.status.busy": "2021-08-31T05:53:15.008408Z",
     "iopub.status.idle": "2021-08-31T05:53:20.461564Z",
     "shell.execute_reply": "2021-08-31T05:53:20.460975Z",
     "shell.execute_reply.started": "2021-08-31T05:51:58.547770Z"
    },
    "papermill": {
     "duration": 5.555122,
     "end_time": "2021-08-31T05:53:20.461734",
     "exception": false,
     "start_time": "2021-08-31T05:53:14.906612",
     "status": "completed"
    },
    "tags": []
   },
   "outputs": [
    {
     "name": "stdout",
     "output_type": "stream",
     "text": [
      "0.8088130774697939\n"
     ]
    }
   ],
   "source": [
    "from sklearn.ensemble import RandomForestClassifier\n",
    "X_train, X_test, y_train, y_test = train_test_split(X, y, test_size=0.2, random_state=101)\n",
    "model_rf = RandomForestClassifier(n_estimators=1000 , oob_score = True, n_jobs = -1,\n",
    "                                  random_state =50, max_features = \"auto\",\n",
    "                                  max_leaf_nodes = 30)\n",
    "model_rf.fit(X_train, y_train)\n",
    "\n",
    "prediction_test = model_rf.predict(X_test)\n",
    "print (metrics.accuracy_score(y_test, prediction_test))"
   ]
  },
  {
   "cell_type": "code",
   "execution_count": 34,
   "id": "6dd334a5",
   "metadata": {
    "_uuid": "ad587d99c32b5998fae79beaf9b508c4345e8ad2",
    "execution": {
     "iopub.execute_input": "2021-08-31T05:53:20.649956Z",
     "iopub.status.busy": "2021-08-31T05:53:20.649198Z",
     "iopub.status.idle": "2021-08-31T05:53:21.147771Z",
     "shell.execute_reply": "2021-08-31T05:53:21.147160Z",
     "shell.execute_reply.started": "2021-08-31T05:52:03.678294Z"
    },
    "papermill": {
     "duration": 0.595245,
     "end_time": "2021-08-31T05:53:21.147946",
     "exception": false,
     "start_time": "2021-08-31T05:53:20.552701",
     "status": "completed"
    },
    "tags": []
   },
   "outputs": [
    {
     "data": {
      "text/plain": [
       "<AxesSubplot:>"
      ]
     },
     "execution_count": 34,
     "metadata": {},
     "output_type": "execute_result"
    },
    {
     "data": {
      "image/png": "[encoded data removed]",
      "text/plain": [
       "<Figure size 432x288 with 1 Axes>"
      ]
     },
     "metadata": {
      "needs_background": "light"
     },
     "output_type": "display_data"
    }
   ],
   "source": [
    "importances = model_rf.feature_importances_\n",
    "weights = pd.Series(importances,\n",
    "                 index=X.columns.values)\n",
    "weights.sort_values()[-10:].plot(kind = 'barh', color = 'pink')"
   ]
  },
  {
   "cell_type": "markdown",
   "id": "7c242e11",
   "metadata": {
    "_uuid": "8dc6a21dd39575a473ca7d7e8575bd192a313027",
    "papermill": {
     "duration": 0.091789,
     "end_time": "2021-08-31T05:53:21.333061",
     "exception": false,
     "start_time": "2021-08-31T05:53:21.241272",
     "status": "completed"
    },
    "tags": []
   },
   "source": [
    "**Observations:**\n",
    "\n",
    "* From random forest algorithm, monthly contract, tenure and total charges are the most important predictor variables to predict churn.\n",
    "* The results from random forest are *very similar* to that of the logistic regression and in line to what we had expected from our EDA"
   ]
  },
  {
   "cell_type": "code",
   "execution_count": null,
   "id": "8eeee194",
   "metadata": {
    "_uuid": "f35d1da67a838367b1d781a5d3ed58e9cbaa8f4e",
    "papermill": {
     "duration": 0.093542,
     "end_time": "2021-08-31T05:53:28.826335",
     "exception": false,
     "start_time": "2021-08-31T05:53:28.732793",
     "status": "completed"
    },
    "tags": []
   },
   "outputs": [],
   "source": []
  }
 ],
 "metadata": {
  "kernelspec": {
   "display_name": "Python 3 (ipykernel)",
   "language": "python",
   "name": "python3"
  },
  "language_info": {
   "codemirror_mode": {
    "name": "ipython",
    "version": 3
   },
   "file_extension": ".py",
   "mimetype": "text/x-python",
   "name": "python",
   "nbconvert_exporter": "python",
   "pygments_lexer": "ipython3",
   "version": "3.10.2"
  },
  "papermill": {
   "default_parameters": {},
   "duration": 47.313249,
   "end_time": "2021-08-31T05:53:30.961028",
   "environment_variables": {},
   "exception": null,
   "input_path": "__notebook__.ipynb",
   "output_path": "__notebook__.ipynb",
   "parameters": {},
   "start_time": "2021-08-31T05:52:43.647779",
   "version": "2.3.3"
  }
 },
 "nbformat": 4,
 "nbformat_minor": 5
}
